{
 "cells": [
  {
   "cell_type": "code",
   "execution_count": 1,
   "id": "2076b508-22ba-4c56-872a-a8698fa7510f",
   "metadata": {},
   "outputs": [],
   "source": [
    "import numpy as np\n",
    "import tensorflow as tf\n",
    "from tensorflow.keras import layers, models\n",
    "from tensorflow.keras.datasets import fashion_mnist\n",
    "import matplotlib.pyplot as plt\n",
    "from sklearn.model_selection import train_test_split\n",
    "import random"
   ]
  },
  {
   "cell_type": "code",
   "execution_count": null,
   "id": "7c24fb1f-3832-421e-a9ee-b581e67495aa",
   "metadata": {},
   "outputs": [],
   "source": [
    "# Load and preprocess data\n",
    "(x_train_val, y_train_val), (x_test, y_test) = fashion_mnist.load_data()\n",
    "x_train, x_val, y_train, y_val = train_test_split(x_train_val, y_train_val, test_size=0.2, random_state=42)\n",
    "x_train = x_train / 255.0\n",
    "x_val = x_val / 255.0\n",
    "x_test = x_test / 255.0"
   ]
  },
  {
   "cell_type": "code",
   "execution_count": null,
   "id": "a0ebc5d2-a238-47eb-ac1a-9155e438a27d",
   "metadata": {},
   "outputs": [],
   "source": [
    " #Create pairs\n",
    "def create_pairs(images, labels):\n",
    "    pair_images, pair_labels = [], []\n",
    "    n = min([len(labels[l]) for l in range(10)]) - 1\n",
    "    for l in range(10):\n",
    "        for i in range(n):\n",
    "            z1, z2 = labels[l][i], labels[l][i + 1]\n",
    "            pair_images += [[images[z1], images[z2]]]\n",
    "            inc = random.randrange(1, 10)\n",
    "            dn = (l + inc) % 10\n",
    "            z1, z2 = labels[l][i], labels[dn][i]\n",
    "            pair_images += [[images[z1], images[z2]]]\n",
    "            pair_labels += [1, 0]\n",
    "    return np.array(pair_images), np.array(pair_labels)\n",
    "\n",
    "digit_indices = [np.where(y_train == i)[0] for i in range(10)]\n",
    "train_image_pairs, train_label_pairs = create_pairs(x_train, digit_indices)\n",
    "\n",
    "digit_indices = [np.where(y_val == i)[0] for i in range(10)]\n",
    "val_image_pairs, val_label_pairs = create_pairs(x_val, digit_indices)\n",
    "\n",
    "digit_indices = [np.where(y_test == i)[0] for i in range(10)]\n",
    "test_image_pairs, test_label_pairs = create_pairs(x_test, digit_indices)\n"
   ]
  },
  {
   "cell_type": "code",
   "execution_count": null,
   "id": "07869fe5-adfd-4f4d-a1ee-99884c49dc56",
   "metadata": {},
   "outputs": [],
   "source": [
    "# Define model\n",
    "class BaseNetwork(models.Model):\n",
    "    def __init__(self):\n",
    "        super(BaseNetwork, self).__init__()\n",
    "        self.flatten = layers.Flatten()\n",
    "        self.d1 = layers.Dropout(0.2)\n",
    "        self.fc1 = layers.Dense(256, activation='relu')\n",
    "        self.d2 = layers.Dropout(0.2)\n",
    "        self.fc2 = layers.Dense(128, activation='relu')\n",
    "\n",
    "    def call(self, inputs):\n",
    "        x = self.flatten(inputs)\n",
    "        x = self.d1(x)\n",
    "        x = self.fc1(x)\n",
    "        x = self.d2(x)\n",
    "        return self.fc2(x)\n",
    "\n",
    "base_network = BaseNetwork()\n",
    "input_shape = x_train[0].shape\n",
    "left_input = layers.Input(shape=input_shape)\n",
    "right_input = layers.Input(shape=input_shape)\n",
    "left_output = base_network(left_input)\n",
    "right_output = base_network(right_input)\n"
   ]
  },
  {
   "cell_type": "code",
   "execution_count": null,
   "id": "afbf9bdd-cde5-4487-8667-01a3ecda3879",
   "metadata": {},
   "outputs": [],
   "source": [
    "def euclidean(vect):\n",
    "    x, y = vect\n",
    "    sum_square = tf.keras.backend.sum(tf.keras.backend.square(x - y), axis=-1, keepdims=True)\n",
    "    return tf.keras.backend.sqrt(tf.keras.backend.maximum(sum_square, tf.keras.backend.epsilon()))\n",
    "\n",
    "output = layers.Lambda(euclidean)([left_output, right_output])\n",
    "model = models.Model([left_input, right_input], output)"
   ]
  },
  {
   "cell_type": "code",
   "execution_count": null,
   "id": "d5e94a96-a8ec-4848-8066-e92f8cabcccd",
   "metadata": {},
   "outputs": [],
   "source": [
    "def contrastive_loss_with_margin(margin):\n",
    "    def contrastive_loss(y_true, y_pred):\n",
    "        squared_pred = tf.keras.backend.square(y_pred)\n",
    "        squared_margin = tf.keras.backend.square(tf.keras.backend.maximum(margin - y_pred, 0))\n",
    "        return y_true * squared_pred + (1 - y_true) * squared_margin\n",
    "    return contrastive_loss"
   ]
  },
  {
   "cell_type": "code",
   "execution_count": null,
   "id": "09ccc551-6ea1-4b6a-9793-febff9961020",
   "metadata": {},
   "outputs": [],
   "source": [
    "optimizer = tf.keras.optimizers.RMSprop()\n",
    "loss = contrastive_loss_with_margin(margin=1)\n",
    "model.compile(loss=loss, optimizer=optimizer)\n",
    "model.summary()"
   ]
  },
  {
   "cell_type": "code",
   "execution_count": null,
   "id": "569f90a1-5030-4d72-8e5e-86be7d01621b",
   "metadata": {},
   "outputs": [],
   "source": [
    "history = model.fit(\n",
    "    [train_image_pairs[:, 0], train_image_pairs[:, 1]],\n",
    "    train_label_pairs,\n",
    "    epochs=50,\n",
    "    batch_size=256,\n",
    "    validation_data=([val_image_pairs[:, 0], val_image_pairs[:, 1]], val_label_pairs)\n",
    ")\n"
   ]
  },
  {
   "cell_type": "code",
   "execution_count": null,
   "id": "2293f718-c0dc-4eb9-921d-0cf50269f18d",
   "metadata": {},
   "outputs": [],
   "source": [
    "def compute_accuracy(y_true, y_pred):\n",
    "    yhat = y_pred.ravel() < 0.5\n",
    "    return np.mean(yhat == y_true)"
   ]
  },
  {
   "cell_type": "code",
   "execution_count": null,
   "id": "941320a8-5327-4dac-9286-7dfb7751be09",
   "metadata": {},
   "outputs": [],
   "source": [
    "y_pred_test = model.predict([test_image_pairs[:, 0], test_image_pairs[:, 1]])\n",
    "test_accuracy = compute_accuracy(test_label_pairs, y_pred_test)\n",
    "print(\"Test accuracy: {:.2f}%\".format(test_accuracy * 100))"
   ]
  },
  {
   "cell_type": "code",
   "execution_count": null,
   "id": "e1ca8b8a-cc6f-4a74-8445-e8cd915b25b6",
   "metadata": {},
   "outputs": [],
   "source": [
    "model.save('model/fashion_recommendation_model.keras')"
   ]
  }
 ],
 "metadata": {
  "kernelspec": {
   "display_name": "Python 3 (ipykernel)",
   "language": "python",
   "name": "python3"
  },
  "language_info": {
   "codemirror_mode": {
    "name": "ipython",
    "version": 3
   },
   "file_extension": ".py",
   "mimetype": "text/x-python",
   "name": "python",
   "nbconvert_exporter": "python",
   "pygments_lexer": "ipython3",
   "version": "3.11.7"
  }
 },
 "nbformat": 4,
 "nbformat_minor": 5
}
